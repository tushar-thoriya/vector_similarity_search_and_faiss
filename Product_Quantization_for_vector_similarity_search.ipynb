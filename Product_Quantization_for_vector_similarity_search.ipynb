{
  "nbformat": 4,
  "nbformat_minor": 0,
  "metadata": {
    "colab": {
      "provenance": []
    },
    "kernelspec": {
      "name": "python3",
      "display_name": "Python 3"
    },
    "language_info": {
      "name": "python"
    }
  },
  "cells": [
    {
      "cell_type": "code",
      "execution_count": null,
      "metadata": {
        "id": "Z_QOvI9ckYBO"
      },
      "outputs": [],
      "source": [
        "x = [1, 8, 3, 9, 1, 2, 9, 4, 5, 4, 6, 2]"
      ]
    },
    {
      "cell_type": "code",
      "source": [
        "m = 4\n",
        "D = len(x)"
      ],
      "metadata": {
        "id": "zQxfl839kksG"
      },
      "execution_count": null,
      "outputs": []
    },
    {
      "cell_type": "code",
      "source": [
        "assert D % m  == 0"
      ],
      "metadata": {
        "id": "-ZWOD4V2k-k-"
      },
      "execution_count": null,
      "outputs": []
    },
    {
      "cell_type": "code",
      "source": [
        "D_ = int(D/m)\n",
        "D_"
      ],
      "metadata": {
        "colab": {
          "base_uri": "https://localhost:8080/"
        },
        "id": "wGBhccvQlBTf",
        "outputId": "4981a8bf-b7b7-4821-b962-109d7df9323f"
      },
      "execution_count": null,
      "outputs": [
        {
          "output_type": "execute_result",
          "data": {
            "text/plain": [
              "3"
            ]
          },
          "metadata": {},
          "execution_count": 15
        }
      ]
    },
    {
      "cell_type": "code",
      "source": [
        "u = [x[row:row + D_] for row in range(0, D, D_)]\n",
        "u"
      ],
      "metadata": {
        "colab": {
          "base_uri": "https://localhost:8080/"
        },
        "id": "Dartu8dFl1aZ",
        "outputId": "17588298-9f8d-40a3-b60b-cb222b3e1a7f"
      },
      "execution_count": null,
      "outputs": [
        {
          "output_type": "execute_result",
          "data": {
            "text/plain": [
              "[[1, 8, 3], [9, 1, 2], [9, 4, 5], [4, 6, 2]]"
            ]
          },
          "metadata": {},
          "execution_count": 16
        }
      ]
    },
    {
      "cell_type": "code",
      "source": [
        "# number of centroid\n",
        "k = 2**5\n",
        "k"
      ],
      "metadata": {
        "colab": {
          "base_uri": "https://localhost:8080/"
        },
        "id": "s0xL76m0mIa5",
        "outputId": "68f2d22c-2ed7-4a39-bfc4-31d572530320"
      },
      "execution_count": null,
      "outputs": [
        {
          "output_type": "execute_result",
          "data": {
            "text/plain": [
              "32"
            ]
          },
          "metadata": {},
          "execution_count": 17
        }
      ]
    },
    {
      "cell_type": "code",
      "source": [
        "assert k % m == 0"
      ],
      "metadata": {
        "id": "2Mens57Hm2di"
      },
      "execution_count": null,
      "outputs": []
    },
    {
      "cell_type": "code",
      "source": [
        "# k_ = we have 8 centroids per subspace\n",
        "k_ = int(k/m)\n",
        "k_"
      ],
      "metadata": {
        "colab": {
          "base_uri": "https://localhost:8080/"
        },
        "id": "297s858Km-p9",
        "outputId": "ed6e1719-07bd-4ad8-cab9-8d6ecbdd731e"
      },
      "execution_count": null,
      "outputs": [
        {
          "output_type": "execute_result",
          "data": {
            "text/plain": [
              "8"
            ]
          },
          "metadata": {},
          "execution_count": 21
        }
      ]
    },
    {
      "cell_type": "code",
      "source": [
        "from random import randint"
      ],
      "metadata": {
        "id": "L6C1QMLjnLrS"
      },
      "execution_count": null,
      "outputs": []
    },
    {
      "cell_type": "code",
      "source": [
        "c = []"
      ],
      "metadata": {
        "id": "bIo-us6YsekS"
      },
      "execution_count": null,
      "outputs": []
    },
    {
      "cell_type": "code",
      "source": [
        "for j in range(m):\n",
        "  c_j = []\n",
        "  for i in range(k_):\n",
        "    c_ji = [randint(0, 9) for _ in range(D_)]\n",
        "    c_j.append(c_ji)\n",
        "  c.append(c_j)"
      ],
      "metadata": {
        "id": "Pib8NvPKsgiK"
      },
      "execution_count": null,
      "outputs": []
    },
    {
      "cell_type": "code",
      "source": [
        "c"
      ],
      "metadata": {
        "colab": {
          "base_uri": "https://localhost:8080/"
        },
        "id": "TOg25JvZtjWH",
        "outputId": "c6d27eac-ec83-4b4e-a094-3f45ab9032b0"
      },
      "execution_count": null,
      "outputs": [
        {
          "output_type": "execute_result",
          "data": {
            "text/plain": [
              "[[[7, 4, 6],\n",
              "  [2, 0, 1],\n",
              "  [7, 3, 3],\n",
              "  [9, 8, 1],\n",
              "  [4, 8, 4],\n",
              "  [3, 9, 1],\n",
              "  [8, 4, 5],\n",
              "  [4, 6, 8]],\n",
              " [[5, 5, 3],\n",
              "  [8, 5, 4],\n",
              "  [1, 2, 6],\n",
              "  [0, 4, 4],\n",
              "  [3, 0, 2],\n",
              "  [0, 4, 1],\n",
              "  [4, 4, 1],\n",
              "  [7, 3, 5]],\n",
              " [[4, 9, 6],\n",
              "  [5, 3, 4],\n",
              "  [5, 3, 5],\n",
              "  [6, 4, 9],\n",
              "  [9, 6, 5],\n",
              "  [6, 4, 7],\n",
              "  [5, 7, 1],\n",
              "  [3, 1, 9]],\n",
              " [[9, 5, 9],\n",
              "  [7, 2, 9],\n",
              "  [8, 2, 5],\n",
              "  [0, 7, 7],\n",
              "  [7, 2, 4],\n",
              "  [9, 4, 6],\n",
              "  [7, 3, 0],\n",
              "  [6, 4, 7]]]"
            ]
          },
          "metadata": {},
          "execution_count": 28
        }
      ]
    },
    {
      "cell_type": "code",
      "source": [
        "def euclidean(v, u):\n",
        "    distance = sum((x - y) ** 2 for x, y in zip(v, u)) ** .5\n",
        "    return distance\n",
        "\n",
        "def nearest(c_j, u_j):\n",
        "    distance = 9e9\n",
        "    for i in range(k_):\n",
        "        new_dist = euclidean(c_j[i], u_j)\n",
        "        if new_dist < distance:\n",
        "            nearest_idx = i\n",
        "            distance = new_dist\n",
        "    return nearest_idx"
      ],
      "metadata": {
        "id": "oLDau0GJtkp2"
      },
      "execution_count": null,
      "outputs": []
    },
    {
      "cell_type": "code",
      "source": [
        "ids = []\n",
        "for j in range(m):\n",
        "    i = nearest(c[j], u[j])\n",
        "    ids.append(i)\n",
        "ids"
      ],
      "metadata": {
        "colab": {
          "base_uri": "https://localhost:8080/"
        },
        "id": "GQMZBjN0uusU",
        "outputId": "e2eabf02-c753-4d56-c774-d6e64216b56b"
      },
      "execution_count": null,
      "outputs": [
        {
          "output_type": "execute_result",
          "data": {
            "text/plain": [
              "[5, 7, 4, 6]"
            ]
          },
          "metadata": {},
          "execution_count": 31
        }
      ]
    },
    {
      "cell_type": "code",
      "source": [
        "q = []\n",
        "for j in range(m):\n",
        "    c_ji = c[j][ids[j]]\n",
        "    q.extend(c_ji)"
      ],
      "metadata": {
        "id": "kSvMFh2nu2V3"
      },
      "execution_count": null,
      "outputs": []
    },
    {
      "cell_type": "code",
      "source": [
        "q"
      ],
      "metadata": {
        "colab": {
          "base_uri": "https://localhost:8080/"
        },
        "id": "0wknrcawvPsC",
        "outputId": "b32acfd6-0ce3-4536-83f3-521df966fbf5"
      },
      "execution_count": null,
      "outputs": [
        {
          "output_type": "execute_result",
          "data": {
            "text/plain": [
              "[3, 9, 1, 7, 3, 5, 9, 6, 5, 7, 3, 0]"
            ]
          },
          "metadata": {},
          "execution_count": 33
        }
      ]
    },
    {
      "cell_type": "code",
      "source": [],
      "metadata": {
        "id": "xY6gxOYIvZMo"
      },
      "execution_count": null,
      "outputs": []
    }
  ]
}