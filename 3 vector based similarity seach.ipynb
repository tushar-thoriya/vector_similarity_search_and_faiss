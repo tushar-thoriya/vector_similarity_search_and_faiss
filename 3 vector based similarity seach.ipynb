{
 "cells": [
  {
   "cell_type": "markdown",
   "id": "9febc8d7-2fe5-4745-90ba-a893bf55e67d",
   "metadata": {},
   "source": [
    "## 1. TF-IDF (term frequncy - inverse document frequency)\n"
   ]
  },
  {
   "cell_type": "code",
   "execution_count": 1,
   "id": "20f3d699-3525-47b6-a43b-51ae8f724974",
   "metadata": {},
   "outputs": [],
   "source": [
    "a = \"purple is the best city in the forest\".split()\n",
    "b = \"there is an art to getting your way and throwing bananas on the street is not it\".split()\n",
    "c = \"it is not often you find soggy bananas on the street\".split()"
   ]
  },
  {
   "cell_type": "code",
   "execution_count": 12,
   "id": "e8513a7d-58fd-4a7b-b65d-6141afe953b2",
   "metadata": {},
   "outputs": [],
   "source": [
    "import numpy as np\n",
    "\n",
    "docs = [a, b, c]\n",
    "\n",
    "def TF_IDF(word, sentence):\n",
    "    # term frequency \n",
    "    tf = sentence.count(word) / len(sentence)\n",
    "    # inverse document frequency\n",
    "    idf = np.log10( len(docs) / sum([1 for doc in docs if word in doc]) )\n",
    "\n",
    "    return round(idf * tf, 4)"
   ]
  },
  {
   "cell_type": "code",
   "execution_count": 21,
   "id": "72cf9818-9071-43d7-959c-64bcc519518a",
   "metadata": {},
   "outputs": [
    {
     "data": {
      "text/plain": [
       "0.0596"
      ]
     },
     "execution_count": 21,
     "metadata": {},
     "output_type": "execute_result"
    }
   ],
   "source": [
    "TF_IDF('forest', a)"
   ]
  },
  {
   "cell_type": "code",
   "execution_count": 22,
   "id": "02433ced-a91b-46a3-b584-3173e6067461",
   "metadata": {},
   "outputs": [
    {
     "data": {
      "text/plain": [
       "{'an',\n",
       " 'and',\n",
       " 'art',\n",
       " 'bananas',\n",
       " 'best',\n",
       " 'city',\n",
       " 'find',\n",
       " 'forest',\n",
       " 'getting',\n",
       " 'in',\n",
       " 'is',\n",
       " 'it',\n",
       " 'not',\n",
       " 'often',\n",
       " 'on',\n",
       " 'purple',\n",
       " 'soggy',\n",
       " 'street',\n",
       " 'the',\n",
       " 'there',\n",
       " 'throwing',\n",
       " 'to',\n",
       " 'way',\n",
       " 'you',\n",
       " 'your'}"
      ]
     },
     "execution_count": 22,
     "metadata": {},
     "output_type": "execute_result"
    }
   ],
   "source": [
    "vocab = set(a+b+c)\n",
    "vocab"
   ]
  },
  {
   "cell_type": "code",
   "execution_count": 28,
   "id": "35bd050d-16b3-499e-9a6b-dbc46cd43212",
   "metadata": {},
   "outputs": [
    {
     "name": "stdout",
     "output_type": "stream",
     "text": [
      "CPU times: total: 0 ns\n",
      "Wall time: 0 ns\n"
     ]
    }
   ],
   "source": [
    "%%time\n",
    "vector_a = [TF_IDF(word, a) for word in vocab]\n",
    "vector_b = [TF_IDF(word, b) for word in vocab]\n",
    "vector_c = [TF_IDF(word, c) for word in vocab]"
   ]
  },
  {
   "cell_type": "code",
   "execution_count": 26,
   "id": "82697522-f7b7-4c7f-b594-bf062dbf61ee",
   "metadata": {},
   "outputs": [],
   "source": [
    "# vector_a"
   ]
  },
  {
   "cell_type": "markdown",
   "id": "326a558b-bf43-40b1-8a41-d155166769ff",
   "metadata": {},
   "source": [
    "## 2. BM25"
   ]
  },
  {
   "cell_type": "code",
   "execution_count": 35,
   "id": "cf897554-cb4b-48ed-9027-ac43554eb0da",
   "metadata": {},
   "outputs": [],
   "source": [
    "a = \"purple is the best city in the forest\".split()\n",
    "b = \"there is an art to getting your way and throwing bananas on the street is not it\".split()\n",
    "c = \"it is not often you find soggy bananas on the street\".split()\n",
    "d = \"green shold have smelled more tranquil but somehow it just tested rotten\".split()\n",
    "e = \"joyce enjoyed eating pancakes with ketup\".split()\n",
    "f = \"as the astroid hurtled toward earth becky was upset her dentist appointment had been canceled\".split()"
   ]
  },
  {
   "cell_type": "code",
   "execution_count": 37,
   "id": "c3c54a34-c177-4220-aef0-66dd4a33c331",
   "metadata": {},
   "outputs": [],
   "source": [
    "docs = [a, b, c, d, e, f]"
   ]
  },
  {
   "cell_type": "code",
   "execution_count": 38,
   "id": "7ca1944c-c6a1-48ec-bf07-78ce3c63d66d",
   "metadata": {},
   "outputs": [],
   "source": [
    "avgdl = sum(len(sentence) for sentence in docs) / len(docs)\n",
    "N = len(docs)\n",
    "\n",
    "def bm25(word, sentence, k = 1.2, b = 0.75):\n",
    "    # term frequency...\n",
    "    freq = sentence.count(word)\n",
    "\n",
    "    tf = (freq * (k + 1)) / (freq + k * (1 -  b + b * len(sentence) / avgdl))\n",
    "    # inverse document frequency\n",
    "    N_q = sum([1 for doc in docs if word in doc]) \n",
    "\n",
    "    idf = np.log(((N - N_q + 0.5) / (N_q + 0.5)) + 1)\n",
    "    return round(tf * idf, 4)"
   ]
  },
  {
   "cell_type": "code",
   "execution_count": 39,
   "id": "14e8712c-b3c7-4093-8d21-6eac12cc7702",
   "metadata": {},
   "outputs": [
    {
     "data": {
      "text/plain": [
       "0.0"
      ]
     },
     "execution_count": 39,
     "metadata": {},
     "output_type": "execute_result"
    }
   ],
   "source": [
    "bm25('purple', b)"
   ]
  },
  {
   "cell_type": "code",
   "execution_count": 40,
   "id": "9350e1d2-23b8-4d68-b19d-20dc0395e821",
   "metadata": {},
   "outputs": [
    {
     "data": {
      "text/plain": [
       "1.7595"
      ]
     },
     "execution_count": 40,
     "metadata": {},
     "output_type": "execute_result"
    }
   ],
   "source": [
    "bm25('purple', a)"
   ]
  },
  {
   "cell_type": "code",
   "execution_count": null,
   "id": "b2d9038d-c056-4917-824e-a43e813494c9",
   "metadata": {},
   "outputs": [],
   "source": []
  }
 ],
 "metadata": {
  "kernelspec": {
   "display_name": "Python 3 (ipykernel)",
   "language": "python",
   "name": "python3"
  },
  "language_info": {
   "codemirror_mode": {
    "name": "ipython",
    "version": 3
   },
   "file_extension": ".py",
   "mimetype": "text/x-python",
   "name": "python",
   "nbconvert_exporter": "python",
   "pygments_lexer": "ipython3",
   "version": "3.11.5"
  }
 },
 "nbformat": 4,
 "nbformat_minor": 5
}
