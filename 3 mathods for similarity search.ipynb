{
 "cells": [
  {
   "cell_type": "markdown",
   "id": "614913a7-2e24-45a4-ba68-afafa34f3acd",
   "metadata": {},
   "source": [
    "## 1. Jaccard "
   ]
  },
  {
   "cell_type": "code",
   "execution_count": 1,
   "id": "feacd288-b5eb-4d02-b522-2a27c2ff989b",
   "metadata": {},
   "outputs": [],
   "source": [
    "a = \"his thought process was on so many levels that he gave himself a phobia of heights\"\n",
    "b = \"there is an art to getting your way and thorwing bananas on the street is not it\"\n",
    "c = \"it is not often you find soggy bananas on the street\""
   ]
  },
  {
   "cell_type": "code",
   "execution_count": 3,
   "id": "ae97c967-e219-44e6-bc70-3d5010856671",
   "metadata": {},
   "outputs": [],
   "source": [
    "def jaccard(x: str, y:str):\n",
    "    x = set(x.split())\n",
    "    y = set(y.split())\n",
    "\n",
    "    shared = x.intersection(y)\n",
    "    union = x.union(y)\n",
    "    return len(shared)/len(union)"
   ]
  },
  {
   "cell_type": "code",
   "execution_count": 4,
   "id": "4ee16e71-f273-45be-ba28-7b0e44a77e23",
   "metadata": {},
   "outputs": [
    {
     "data": {
      "text/plain": [
       "0.25"
      ]
     },
     "execution_count": 4,
     "metadata": {},
     "output_type": "execute_result"
    }
   ],
   "source": [
    "jaccard('1 2 3', '2 4')"
   ]
  },
  {
   "cell_type": "code",
   "execution_count": 5,
   "id": "d5eaddf1-eb85-4d8f-b59e-bca99f265f38",
   "metadata": {},
   "outputs": [
    {
     "data": {
      "text/plain": [
       "0.03225806451612903"
      ]
     },
     "execution_count": 5,
     "metadata": {},
     "output_type": "execute_result"
    }
   ],
   "source": [
    "jaccard(a, b)"
   ]
  },
  {
   "cell_type": "code",
   "execution_count": 9,
   "id": "bf712c70-7946-4dbb-b904-08b0c65dbbab",
   "metadata": {},
   "outputs": [
    {
     "data": {
      "text/plain": [
       "0.35"
      ]
     },
     "execution_count": 9,
     "metadata": {},
     "output_type": "execute_result"
    }
   ],
   "source": [
    "jaccard(b, c)"
   ]
  },
  {
   "cell_type": "markdown",
   "id": "652b3e25-1fb7-4143-89da-938328514f47",
   "metadata": {},
   "source": [
    "# 2. W-shingling"
   ]
  },
  {
   "cell_type": "code",
   "execution_count": 11,
   "id": "11ea3dc3-c130-45ab-aa93-c40b805348c6",
   "metadata": {},
   "outputs": [],
   "source": [
    "a = \"his thought process was on so many levels that he gave himself a phobia of heights\""
   ]
  },
  {
   "cell_type": "code",
   "execution_count": 13,
   "id": "90fe96e2-4bb0-47d1-9fa6-c1b34c594cae",
   "metadata": {},
   "outputs": [
    {
     "name": "stdout",
     "output_type": "stream",
     "text": [
      "['his', 'thought', 'process', 'was', 'on', 'so', 'many', 'levels', 'that', 'he', 'gave', 'himself', 'a', 'phobia', 'of', 'heights']\n"
     ]
    }
   ],
   "source": [
    "a = a.split()\n",
    "print(a)"
   ]
  },
  {
   "cell_type": "code",
   "execution_count": 15,
   "id": "1aa85931-d1cb-46ac-b75b-b3d0be7651b4",
   "metadata": {},
   "outputs": [
    {
     "data": {
      "text/plain": [
       "['his',\n",
       " 'thought',\n",
       " 'process',\n",
       " 'was',\n",
       " 'on',\n",
       " 'so',\n",
       " 'many',\n",
       " 'levels',\n",
       " 'that',\n",
       " 'he',\n",
       " 'gave',\n",
       " 'himself',\n",
       " 'a',\n",
       " 'phobia',\n",
       " 'of',\n",
       " 'heights']"
      ]
     },
     "execution_count": 15,
     "metadata": {},
     "output_type": "execute_result"
    }
   ],
   "source": [
    "[a[i] for i in range(len(a))]"
   ]
  },
  {
   "cell_type": "code",
   "execution_count": 36,
   "id": "c56bb5eb-41f2-4330-a4ec-13ceb8a8d0c1",
   "metadata": {
    "scrolled": true
   },
   "outputs": [
    {
     "name": "stdout",
     "output_type": "stream",
     "text": [
      "{'that he', 'levels that', 'gave himself', 'himself a', 'so many', 'many levels', 'phobia of', 'thought process', 'on so', 'he gave', 'of heights', 'was on', 'his thought', 'process was', 'a phobia'}\n"
     ]
    }
   ],
   "source": [
    "w1 = set([' '.join([a[i], a[i + 1]]) for i in range(len(a) - 1)])\n",
    "print(w1)"
   ]
  },
  {
   "cell_type": "code",
   "execution_count": 39,
   "id": "cf119dd2-9dd3-4902-a5d5-47348340bec7",
   "metadata": {},
   "outputs": [
    {
     "name": "stdout",
     "output_type": "stream",
     "text": [
      "['there', 'is', 'an', 'art', 'to', 'getting', 'your', 'way', 'and', 'thorwing', 'bananas', 'on', 'the', 'street', 'is', 'not', 'it']\n",
      "{'to getting', 'an art', 'bananas on', 'the street', 'way and', 'street is', 'getting your', 'is an', 'your way', 'on the', 'is not', 'not it', 'and thorwing', 'thorwing bananas', 'art to', 'there is'}\n",
      "['it', 'is', 'not', 'often', 'you', 'find', 'soggy', 'bananas', 'on', 'the', 'street']\n",
      "{'the street', 'bananas on', 'soggy bananas', 'you find', 'it is', 'on the', 'is not', 'not often', 'often you', 'find soggy'}\n"
     ]
    }
   ],
   "source": [
    "# for b \n",
    "b = \"there is an art to getting your way and thorwing bananas on the street is not it\"\n",
    "b = b.split()\n",
    "print(b)\n",
    "w2 = set([' '.join([b[i], b[i + 1]]) for i in range(len(b) - 1)])\n",
    "print(w2)\n",
    "\n",
    "# for c\n",
    "c = \"it is not often you find soggy bananas on the street\"\n",
    "c = c.split()\n",
    "print(c)\n",
    "w3 = set([' '.join([c[i], c[i + 1]]) for i in range(len(c) - 1)])\n",
    "print(w3)"
   ]
  },
  {
   "cell_type": "code",
   "execution_count": 41,
   "id": "0e4f2d78-f8fc-4694-85e3-30b664ca43e6",
   "metadata": {},
   "outputs": [
    {
     "name": "stdout",
     "output_type": "stream",
     "text": [
      "0.0\n",
      "0.18181818181818182\n"
     ]
    }
   ],
   "source": [
    "def jaccard(x: str, y:str):\n",
    "\n",
    "    shared = x.intersection(y)\n",
    "    union = x.union(y)\n",
    "    return len(shared)/len(union)\n",
    "\n",
    "\n",
    "print(jaccard(w1, w2))\n",
    "print(jaccard(w2, w3))"
   ]
  },
  {
   "cell_type": "markdown",
   "id": "dfdb521d-7427-4d74-88ff-97c823e96008",
   "metadata": {},
   "source": [
    "## 3. Levenshtein Distance"
   ]
  },
  {
   "cell_type": "code",
   "execution_count": 47,
   "id": "71446f72-1e0e-4037-a7fb-02dc31d1dfdd",
   "metadata": {},
   "outputs": [],
   "source": [
    "import numpy as np\n",
    "\n",
    "def levenshtein_dist(a, b):\n",
    "    # we must add additional characher at the start of each string\n",
    "    a = f' {a}'\n",
    "    b = f' {b}'\n",
    "\n",
    "    lev = np.zeros((len(a), len(b)))\n",
    "\n",
    "    for i in range(len(a)):\n",
    "        for j in range(len(b)):\n",
    "            if min([i, j]) == 0:\n",
    "                lev[i, j] = max([i, j])\n",
    "            else:\n",
    "                x = lev[i - 1, j]  # deletion\n",
    "                y = lev[i, j - 1]  # insertion\n",
    "                z = lev[i - 1, j - 1] # substitution\n",
    "\n",
    "                lev[i, j] = min([x, y , z])\n",
    "\n",
    "                if a[i] != b[j]:\n",
    "                    lev[i, j] += 1\n",
    "    return lev , lev[-1, -1]\n"
   ]
  },
  {
   "cell_type": "code",
   "execution_count": 49,
   "id": "e9818eba-538c-48d1-a390-91dda3cdefcb",
   "metadata": {},
   "outputs": [
    {
     "data": {
      "text/plain": [
       "(array([[ 0.,  1.,  2.,  3.,  4.,  5.,  6.,  7.,  8.,  9., 10.],\n",
       "        [ 1.,  0.,  1.,  2.,  3.,  4.,  5.,  6.,  7.,  8.,  9.],\n",
       "        [ 2.,  1.,  1.,  2.,  3.,  4.,  5.,  6.,  7.,  7.,  8.],\n",
       "        [ 3.,  2.,  2.,  1.,  2.,  3.,  4.,  5.,  6.,  7.,  8.],\n",
       "        [ 4.,  3.,  3.,  2.,  2.,  3.,  4.,  5.,  6.,  6.,  7.],\n",
       "        [ 5.,  4.,  4.,  3.,  3.,  2.,  3.,  4.,  5.,  6.,  6.],\n",
       "        [ 6.,  5.,  5.,  4.,  4.,  3.,  2.,  3.,  4.,  5.,  6.],\n",
       "        [ 7.,  6.,  6.,  5.,  5.,  4.,  3.,  2.,  3.,  4.,  5.],\n",
       "        [ 8.,  7.,  7.,  6.,  6.,  5.,  4.,  3.,  2.,  3.,  4.],\n",
       "        [ 9.,  8.,  8.,  7.,  7.,  6.,  5.,  4.,  3.,  2.,  3.],\n",
       "        [10.,  9.,  8.,  8.,  7.,  7.,  6.,  5.,  4.,  3.,  3.],\n",
       "        [11., 10.,  9.,  9.,  8.,  7.,  7.,  6.,  5.,  4.,  3.]]),\n",
       " 3.0)"
      ]
     },
     "execution_count": 49,
     "metadata": {},
     "output_type": "execute_result"
    }
   ],
   "source": [
    "levenshtein_dist('Levenshtein', 'Livinshten')"
   ]
  },
  {
   "cell_type": "code",
   "execution_count": null,
   "id": "8a465ba7-09da-4507-a25c-66e81cf9ba61",
   "metadata": {},
   "outputs": [],
   "source": []
  }
 ],
 "metadata": {
  "kernelspec": {
   "display_name": "Python 3 (ipykernel)",
   "language": "python",
   "name": "python3"
  },
  "language_info": {
   "codemirror_mode": {
    "name": "ipython",
    "version": 3
   },
   "file_extension": ".py",
   "mimetype": "text/x-python",
   "name": "python",
   "nbconvert_exporter": "python",
   "pygments_lexer": "ipython3",
   "version": "3.11.5"
  }
 },
 "nbformat": 4,
 "nbformat_minor": 5
}
